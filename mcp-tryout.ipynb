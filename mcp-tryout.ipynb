{
 "cells": [
  {
   "cell_type": "code",
   "execution_count": 9,
   "metadata": {
    "colab": {
     "base_uri": "https://localhost:8080/"
    },
    "executionInfo": {
     "elapsed": 4486,
     "status": "ok",
     "timestamp": 1754885926606,
     "user": {
      "displayName": "HARIVENKAT R",
      "userId": "13729029708391544167"
     },
     "user_tz": -330
    },
    "id": "dMF1tLnjNw9P",
    "outputId": "642640e9-2968-46f0-a309-06904e470d78"
   },
   "outputs": [
    {
     "name": "stdout",
     "output_type": "stream",
     "text": [
      "\u001b[?25l   \u001b[90m━━━━━━━━━━━━━━━━━━━━━━━━━━━━━━━━━━━━━━━━\u001b[0m \u001b[32m0.0/131.4 kB\u001b[0m \u001b[31m?\u001b[0m eta \u001b[36m-:--:--\u001b[0m\r\u001b[2K   \u001b[90m━━━━━━━━━━━━━━━━━━━━━━━━━━━━━━━━━━━━━━━━\u001b[0m \u001b[32m131.4/131.4 kB\u001b[0m \u001b[31m13.6 MB/s\u001b[0m eta \u001b[36m0:00:00\u001b[0m\n",
      "\u001b[?25h"
     ]
    }
   ],
   "source": [
    "# Colab cell: install libs we need\n",
    "%pip install -q fastmcp llama-index llama-index-tools-mcp llama-index-llms-groq groq nest_asyncio aiohttp\n"
   ]
  },
  {
   "cell_type": "code",
   "execution_count": 4,
   "metadata": {
    "colab": {
     "base_uri": "https://localhost:8080/"
    },
    "executionInfo": {
     "elapsed": 47,
     "status": "ok",
     "timestamp": 1754886116029,
     "user": {
      "displayName": "HARIVENKAT R",
      "userId": "13729029708391544167"
     },
     "user_tz": -330
    },
    "id": "uGmiRac8Psjg",
    "outputId": "57c74837-0225-481f-fd85-b2bc03e0120f"
   },
   "outputs": [
    {
     "name": "stdout",
     "output_type": "stream",
     "text": [
      "GROQ_API_KEY set (make sure you replaced the placeholder).\n"
     ]
    }
   ],
   "source": [
    "# Run this first in Colab. Replace with your key or set via Colab secrets.\n",
    "import os\n",
    "from dotenv import load_dotenv\n",
    "\n",
    "load_dotenv()\n",
    "\n",
    "# Option A: paste (quick, not recommended for sharing)\n",
    "os.environ[\"GROQ_API_KEY\"] = \"api-key\"\n",
    "\n",
    "# Option B (recommended): use Colab UI -> Secrets and then set here:\n",
    "# from google.colab import auth\n",
    "# (or use the \"secrets\" UI to set an env var)\n",
    "print(\"GROQ_API_KEY set (make sure you replaced the placeholder).\")\n"
   ]
  },
  {
   "cell_type": "code",
   "execution_count": 23,
   "metadata": {
    "colab": {
     "base_uri": "https://localhost:8080/",
     "height": 610
    },
    "executionInfo": {
     "elapsed": 1010,
     "status": "ok",
     "timestamp": 1754889582557,
     "user": {
      "displayName": "HARIVENKAT R",
      "userId": "13729029708391544167"
     },
     "user_tz": -330
    },
    "id": "c09x7_Stbq4z",
    "outputId": "734bbc1a-a305-4125-a755-bf2756c85307"
   },
   "outputs": [
    {
     "data": {
      "text/html": [
       "<pre style=\"white-space:pre;overflow-x:auto;line-height:normal;font-family:Menlo,'DejaVu Sans Mono',consolas,'Courier New',monospace\">\n",
       "\n",
       "<span style=\"color: #7f7f7f; text-decoration-color: #7f7f7f\">╭─ FastMCP 2.0 ──────────────────────────────────────────────────────────────╮</span>\n",
       "<span style=\"color: #7f7f7f; text-decoration-color: #7f7f7f\">│</span>                                                                            <span style=\"color: #7f7f7f; text-decoration-color: #7f7f7f\">│</span>\n",
       "<span style=\"color: #7f7f7f; text-decoration-color: #7f7f7f\">│</span>    <span style=\"color: #008000; text-decoration-color: #008000; font-weight: bold\">    _ __ ___ ______           __  __  _____________    ____    ____ </span>    <span style=\"color: #7f7f7f; text-decoration-color: #7f7f7f\">│</span>\n",
       "<span style=\"color: #7f7f7f; text-decoration-color: #7f7f7f\">│</span>    <span style=\"color: #008000; text-decoration-color: #008000; font-weight: bold\">   _ __ ___ / ____/___ ______/ /_/  |/  / ____/ __ \\  |___ \\  / __ \\</span>    <span style=\"color: #7f7f7f; text-decoration-color: #7f7f7f\">│</span>\n",
       "<span style=\"color: #7f7f7f; text-decoration-color: #7f7f7f\">│</span>    <span style=\"color: #008000; text-decoration-color: #008000; font-weight: bold\">  _ __ ___ / /_  / __ `/ ___/ __/ /|_/ / /   / /_/ /  ___/ / / / / /</span>    <span style=\"color: #7f7f7f; text-decoration-color: #7f7f7f\">│</span>\n",
       "<span style=\"color: #7f7f7f; text-decoration-color: #7f7f7f\">│</span>    <span style=\"color: #008000; text-decoration-color: #008000; font-weight: bold\"> _ __ ___ / __/ / /_/ (__  ) /_/ /  / / /___/ ____/  /  __/_/ /_/ / </span>    <span style=\"color: #7f7f7f; text-decoration-color: #7f7f7f\">│</span>\n",
       "<span style=\"color: #7f7f7f; text-decoration-color: #7f7f7f\">│</span>    <span style=\"color: #008000; text-decoration-color: #008000; font-weight: bold\">_ __ ___ /_/    \\__,_/____/\\__/_/  /_/\\____/_/      /_____(_)____/  </span>    <span style=\"color: #7f7f7f; text-decoration-color: #7f7f7f\">│</span>\n",
       "<span style=\"color: #7f7f7f; text-decoration-color: #7f7f7f\">│</span>                                                                            <span style=\"color: #7f7f7f; text-decoration-color: #7f7f7f\">│</span>\n",
       "<span style=\"color: #7f7f7f; text-decoration-color: #7f7f7f\">│</span>                                                                            <span style=\"color: #7f7f7f; text-decoration-color: #7f7f7f\">│</span>\n",
       "<span style=\"color: #7f7f7f; text-decoration-color: #7f7f7f\">│</span>                                                                            <span style=\"color: #7f7f7f; text-decoration-color: #7f7f7f\">│</span>\n",
       "<span style=\"color: #7f7f7f; text-decoration-color: #7f7f7f\">│</span>    <span style=\"font-weight: bold\">🖥️  </span><span style=\"color: #008080; text-decoration-color: #008080; font-weight: bold\">Server name:     </span><span style=\"color: #c0c0c0; text-decoration-color: #c0c0c0\">colab sqlite MCP          </span>                          <span style=\"color: #7f7f7f; text-decoration-color: #7f7f7f\">│</span>\n",
       "<span style=\"color: #7f7f7f; text-decoration-color: #7f7f7f\">│</span>    <span style=\"font-weight: bold\">📦 </span><span style=\"color: #008080; text-decoration-color: #008080; font-weight: bold\">Transport:       </span><span style=\"color: #c0c0c0; text-decoration-color: #c0c0c0\">SSE                       </span>                          <span style=\"color: #7f7f7f; text-decoration-color: #7f7f7f\">│</span>\n",
       "<span style=\"color: #7f7f7f; text-decoration-color: #7f7f7f\">│</span>    <span style=\"font-weight: bold\">🔗 </span><span style=\"color: #008080; text-decoration-color: #008080; font-weight: bold\">Server URL:      </span><span style=\"color: #c0c0c0; text-decoration-color: #c0c0c0\">http://127.0.0.1:9090/sse/</span>                          <span style=\"color: #7f7f7f; text-decoration-color: #7f7f7f\">│</span>\n",
       "<span style=\"color: #7f7f7f; text-decoration-color: #7f7f7f\">│</span>    <span style=\"font-weight: bold\">   </span><span style=\"color: #008080; text-decoration-color: #008080; font-weight: bold\">                 </span><span style=\"color: #c0c0c0; text-decoration-color: #c0c0c0\">                          </span>                          <span style=\"color: #7f7f7f; text-decoration-color: #7f7f7f\">│</span>\n",
       "<span style=\"color: #7f7f7f; text-decoration-color: #7f7f7f\">│</span>    <span style=\"font-weight: bold\">📚 </span><span style=\"color: #008080; text-decoration-color: #008080; font-weight: bold\">Docs:            </span><span style=\"color: #c0c0c0; text-decoration-color: #c0c0c0\">https://gofastmcp.com     </span>                          <span style=\"color: #7f7f7f; text-decoration-color: #7f7f7f\">│</span>\n",
       "<span style=\"color: #7f7f7f; text-decoration-color: #7f7f7f\">│</span>    <span style=\"font-weight: bold\">🚀 </span><span style=\"color: #008080; text-decoration-color: #008080; font-weight: bold\">Deploy:          </span><span style=\"color: #c0c0c0; text-decoration-color: #c0c0c0\">https://fastmcp.cloud     </span>                          <span style=\"color: #7f7f7f; text-decoration-color: #7f7f7f\">│</span>\n",
       "<span style=\"color: #7f7f7f; text-decoration-color: #7f7f7f\">│</span>    <span style=\"font-weight: bold\">   </span><span style=\"color: #008080; text-decoration-color: #008080; font-weight: bold\">                 </span><span style=\"color: #c0c0c0; text-decoration-color: #c0c0c0\">                          </span>                          <span style=\"color: #7f7f7f; text-decoration-color: #7f7f7f\">│</span>\n",
       "<span style=\"color: #7f7f7f; text-decoration-color: #7f7f7f\">│</span>    <span style=\"font-weight: bold\">🏎️  </span><span style=\"color: #008080; text-decoration-color: #008080; font-weight: bold\">FastMCP version: </span><span style=\"color: #dfdfdf; text-decoration-color: #dfdfdf\">2.11.2                    </span>                          <span style=\"color: #7f7f7f; text-decoration-color: #7f7f7f\">│</span>\n",
       "<span style=\"color: #7f7f7f; text-decoration-color: #7f7f7f\">│</span>    <span style=\"font-weight: bold\">🤝 </span><span style=\"color: #008080; text-decoration-color: #008080; font-weight: bold\">MCP version:     </span><span style=\"color: #dfdfdf; text-decoration-color: #dfdfdf\">1.12.4                    </span>                          <span style=\"color: #7f7f7f; text-decoration-color: #7f7f7f\">│</span>\n",
       "<span style=\"color: #7f7f7f; text-decoration-color: #7f7f7f\">│</span>                                                                            <span style=\"color: #7f7f7f; text-decoration-color: #7f7f7f\">│</span>\n",
       "<span style=\"color: #7f7f7f; text-decoration-color: #7f7f7f\">╰────────────────────────────────────────────────────────────────────────────╯</span>\n",
       "\n",
       "\n",
       "</pre>\n"
      ],
      "text/plain": [
       "\n",
       "\n",
       "\u001b[2m╭─\u001b[0m\u001b[2m FastMCP 2.0 \u001b[0m\u001b[2m─────────────────────────────────────────────────────────────\u001b[0m\u001b[2m─╮\u001b[0m\n",
       "\u001b[2m│\u001b[0m                                                                            \u001b[2m│\u001b[0m\n",
       "\u001b[2m│\u001b[0m    \u001b[1;32m    _ __ ___ ______           __  __  _____________    ____    ____ \u001b[0m    \u001b[2m│\u001b[0m\n",
       "\u001b[2m│\u001b[0m    \u001b[1;32m   _ __ ___ / ____/___ ______/ /_/  |/  / ____/ __ \\  |___ \\  / __ \\\u001b[0m    \u001b[2m│\u001b[0m\n",
       "\u001b[2m│\u001b[0m    \u001b[1;32m  _ __ ___ / /_  / __ `/ ___/ __/ /|_/ / /   / /_/ /  ___/ / / / / /\u001b[0m    \u001b[2m│\u001b[0m\n",
       "\u001b[2m│\u001b[0m    \u001b[1;32m _ __ ___ / __/ / /_/ (__  ) /_/ /  / / /___/ ____/  /  __/_/ /_/ / \u001b[0m    \u001b[2m│\u001b[0m\n",
       "\u001b[2m│\u001b[0m    \u001b[1;32m_ __ ___ /_/    \\__,_/____/\\__/_/  /_/\\____/_/      /_____(_)____/  \u001b[0m    \u001b[2m│\u001b[0m\n",
       "\u001b[2m│\u001b[0m                                                                            \u001b[2m│\u001b[0m\n",
       "\u001b[2m│\u001b[0m                                                                            \u001b[2m│\u001b[0m\n",
       "\u001b[2m│\u001b[0m                                                                            \u001b[2m│\u001b[0m\n",
       "\u001b[2m│\u001b[0m    \u001b[1m🖥️ \u001b[0m\u001b[1m \u001b[0m\u001b[1;36mServer name:    \u001b[0m\u001b[1;36m \u001b[0m\u001b[37mcolab sqlite MCP          \u001b[0m                          \u001b[2m│\u001b[0m\n",
       "\u001b[2m│\u001b[0m    \u001b[1m📦\u001b[0m\u001b[1m \u001b[0m\u001b[1;36mTransport:      \u001b[0m\u001b[1;36m \u001b[0m\u001b[37mSSE                       \u001b[0m                          \u001b[2m│\u001b[0m\n",
       "\u001b[2m│\u001b[0m    \u001b[1m🔗\u001b[0m\u001b[1m \u001b[0m\u001b[1;36mServer URL:     \u001b[0m\u001b[1;36m \u001b[0m\u001b[37mhttp://127.0.0.1:9090/sse/\u001b[0m                          \u001b[2m│\u001b[0m\n",
       "\u001b[2m│\u001b[0m    \u001b[1m  \u001b[0m\u001b[1m \u001b[0m\u001b[1;36m                \u001b[0m\u001b[1;36m \u001b[0m\u001b[37m                          \u001b[0m                          \u001b[2m│\u001b[0m\n",
       "\u001b[2m│\u001b[0m    \u001b[1m📚\u001b[0m\u001b[1m \u001b[0m\u001b[1;36mDocs:           \u001b[0m\u001b[1;36m \u001b[0m\u001b[37mhttps://gofastmcp.com     \u001b[0m                          \u001b[2m│\u001b[0m\n",
       "\u001b[2m│\u001b[0m    \u001b[1m🚀\u001b[0m\u001b[1m \u001b[0m\u001b[1;36mDeploy:         \u001b[0m\u001b[1;36m \u001b[0m\u001b[37mhttps://fastmcp.cloud     \u001b[0m                          \u001b[2m│\u001b[0m\n",
       "\u001b[2m│\u001b[0m    \u001b[1m  \u001b[0m\u001b[1m \u001b[0m\u001b[1;36m                \u001b[0m\u001b[1;36m \u001b[0m\u001b[37m                          \u001b[0m                          \u001b[2m│\u001b[0m\n",
       "\u001b[2m│\u001b[0m    \u001b[1m🏎️ \u001b[0m\u001b[1m \u001b[0m\u001b[1;36mFastMCP version:\u001b[0m\u001b[1;36m \u001b[0m\u001b[2;37m2.11.2                    \u001b[0m                          \u001b[2m│\u001b[0m\n",
       "\u001b[2m│\u001b[0m    \u001b[1m🤝\u001b[0m\u001b[1m \u001b[0m\u001b[1;36mMCP version:    \u001b[0m\u001b[1;36m \u001b[0m\u001b[2;37m1.12.4                    \u001b[0m                          \u001b[2m│\u001b[0m\n",
       "\u001b[2m│\u001b[0m                                                                            \u001b[2m│\u001b[0m\n",
       "\u001b[2m╰────────────────────────────────────────────────────────────────────────────╯\u001b[0m\n",
       "\n",
       "\n"
      ]
     },
     "metadata": {},
     "output_type": "display_data"
    },
    {
     "data": {
      "text/html": [
       "<pre style=\"white-space:pre;overflow-x:auto;line-height:normal;font-family:Menlo,'DejaVu Sans Mono',consolas,'Courier New',monospace\"><span style=\"color: #7fbfbf; text-decoration-color: #7fbfbf\">[08/11/25 05:19:40] </span><span style=\"color: #000080; text-decoration-color: #000080\">INFO    </span> Starting MCP server <span style=\"color: #008000; text-decoration-color: #008000\">'colab sqlite MCP'</span> with transport <span style=\"color: #008000; text-decoration-color: #008000\">'sse'</span> on          <a href=\"file:///usr/local/lib/python3.11/dist-packages/fastmcp/server/server.py\" target=\"_blank\"><span style=\"color: #7f7f7f; text-decoration-color: #7f7f7f\">server.py</span></a><span style=\"color: #7f7f7f; text-decoration-color: #7f7f7f\">:</span><a href=\"file:///usr/local/lib/python3.11/dist-packages/fastmcp/server/server.py#1522\" target=\"_blank\"><span style=\"color: #7f7f7f; text-decoration-color: #7f7f7f\">1522</span></a>\n",
       "<span style=\"color: #7fbfbf; text-decoration-color: #7fbfbf\">                    </span>         <span style=\"color: #0000ff; text-decoration-color: #0000ff; text-decoration: underline\">http://127.0.0.1:9090/sse/</span>                                              <span style=\"color: #7f7f7f; text-decoration-color: #7f7f7f\">              </span>\n",
       "</pre>\n"
      ],
      "text/plain": [
       "\u001b[2;36m[08/11/25 05:19:40]\u001b[0m\u001b[2;36m \u001b[0m\u001b[34mINFO    \u001b[0m Starting MCP server \u001b[32m'colab sqlite MCP'\u001b[0m with transport \u001b[32m'sse'\u001b[0m on          \u001b]8;id=887209;file:///usr/local/lib/python3.11/dist-packages/fastmcp/server/server.py\u001b\\\u001b[2mserver.py\u001b[0m\u001b]8;;\u001b\\\u001b[2m:\u001b[0m\u001b]8;id=936241;file:///usr/local/lib/python3.11/dist-packages/fastmcp/server/server.py#1522\u001b\\\u001b[2m1522\u001b[0m\u001b]8;;\u001b\\\n",
       "\u001b[2;36m                    \u001b[0m         \u001b[4;94mhttp://127.0.0.1:9090/sse/\u001b[0m                                              \u001b[2m              \u001b[0m\n"
      ]
     },
     "metadata": {},
     "output_type": "display_data"
    },
    {
     "name": "stderr",
     "output_type": "stream",
     "text": [
      "INFO:     Started server process [990]\n",
      "INFO:     Waiting for application startup.\n",
      "INFO:     Application startup complete.\n",
      "ERROR:    [Errno 98] error while attempting to bind on address ('127.0.0.1', 9090): address already in use\n",
      "INFO:     Waiting for application shutdown.\n",
      "INFO:     Application shutdown complete.\n"
     ]
    },
    {
     "name": "stdout",
     "output_type": "stream",
     "text": [
      "MCP server should be up at http://127.0.0.1:9090/sse\n"
     ]
    }
   ],
   "source": [
    "import sqlite3, threading, time\n",
    "from fastmcp import FastMCP\n",
    "\n",
    "conn = sqlite3.connect(\"demo.db\")\n",
    "conn.execute(\"\"\"\n",
    "CREATE TABLE IF NOT EXISTS people (\n",
    "    id INTEGER PRIMARY KEY AUTOINCREMENT,\n",
    "    name TEXT,\n",
    "    info TEXT\n",
    ")\"\"\")\n",
    "\n",
    "conn.commit()\n",
    "conn.close()\n",
    "\n",
    "mcp = FastMCP(name = \"colab sqlite MCP\", port = 9090)\n",
    "\n",
    "def get_conn():\n",
    "  return sqlite3.connect(\"demo.db\", check_same_thread = False)\n",
    "\n",
    "@mcp.tool()\n",
    "def add_data(name: str, info: str):\n",
    "  \"\"\"Insert (name, info) into the database\"\"\"\n",
    "  conn = get_conn()\n",
    "  cur = conn.cursor()\n",
    "  cur.execute(\"INSERT INTO people (name, info) VALUES (?, ?)\", (name, info))\n",
    "  conn.commit()\n",
    "  conn.close()\n",
    "  return \"OK\"\n",
    "\n",
    "@mcp.tool()\n",
    "def read_data() -> str:\n",
    "  \"\"\"Return a text dump of the people table.\"\"\"\n",
    "  conn = get_conn()\n",
    "  cur = conn.cursor()\n",
    "  rows = cur.execute(\"SELECT id, name, info FROM people\")\n",
    "  conn.close()\n",
    "  return \"\\n\".join([f\"{r[0]} | {r[1]} | {r[2]}\" for r in rows])\n",
    "\n",
    "def run_server():\n",
    "  mcp.run(transport = \"sse\", port = 9090)\n",
    "\n",
    "thread = threading.Thread(target = run_server, daemon = True)\n",
    "thread.start()\n",
    "time.sleep(1)\n",
    "print(\"MCP server should be up at http://127.0.0.1:9090/sse\")\n"
   ]
  },
  {
   "cell_type": "code",
   "execution_count": 24,
   "metadata": {
    "colab": {
     "base_uri": "https://localhost:8080/"
    },
    "executionInfo": {
     "elapsed": 265,
     "status": "ok",
     "timestamp": 1754889588552,
     "user": {
      "displayName": "HARIVENKAT R",
      "userId": "13729029708391544167"
     },
     "user_tz": -330
    },
    "id": "Ir_0fv7ZSkmT",
    "outputId": "542f1501-b14f-40d2-8b83-65153cc94d2d"
   },
   "outputs": [
    {
     "name": "stdout",
     "output_type": "stream",
     "text": [
      "INFO:     127.0.0.1:47318 - \"GET /sse HTTP/1.1\" 307 Temporary Redirect\n"
     ]
    },
    {
     "name": "stderr",
     "output_type": "stream",
     "text": [
      "ERROR:asyncio:Task exception was never retrieved\n",
      "future: <Task finished name='functools' coro=<AsyncIOBackend.run.<locals>.wrapper() done, defined at /usr/local/lib/python3.11/dist-packages/anyio/_backends/_asyncio.py:2297> exception=SystemExit(1)>\n",
      "Traceback (most recent call last):\n",
      "  File \"/usr/local/lib/python3.11/dist-packages/uvicorn/server.py\", line 164, in startup\n",
      "    server = await loop.create_server(\n",
      "             ^^^^^^^^^^^^^^^^^^^^^^^^^\n",
      "  File \"/usr/lib/python3.11/asyncio/base_events.py\", line 1536, in create_server\n",
      "    raise OSError(err.errno, msg) from None\n",
      "OSError: [Errno 98] error while attempting to bind on address ('127.0.0.1', 9090): address already in use\n",
      "\n",
      "During handling of the above exception, another exception occurred:\n",
      "\n",
      "Traceback (most recent call last):\n",
      "  File \"/usr/lib/python3.11/threading.py\", line 1045, in _bootstrap_inner\n",
      "    self.run()\n",
      "  File \"/usr/lib/python3.11/threading.py\", line 982, in run\n",
      "    self._target(*self._args, **self._kwargs)\n",
      "  File \"/tmp/ipython-input-3759514785.py\", line 40, in run_server\n",
      "    mcp.run(transport = \"sse\", port = 9090)\n",
      "  File \"/usr/local/lib/python3.11/dist-packages/fastmcp/server/server.py\", line 352, in run\n",
      "    anyio.run(\n",
      "  File \"/usr/local/lib/python3.11/dist-packages/anyio/_core/_eventloop.py\", line 74, in run\n",
      "    return async_backend.run(func, args, {}, backend_options)\n",
      "           ^^^^^^^^^^^^^^^^^^^^^^^^^^^^^^^^^^^^^^^^^^^^^^^^^^\n",
      "  File \"/usr/local/lib/python3.11/dist-packages/anyio/_backends/_asyncio.py\", line 2316, in run\n",
      "    return runner.run(wrapper())\n",
      "           ^^^^^^^^^^^^^^^^^^^^^\n",
      "  File \"/usr/lib/python3.11/asyncio/runners.py\", line 118, in run\n",
      "    return self._loop.run_until_complete(task)\n",
      "           ^^^^^^^^^^^^^^^^^^^^^^^^^^^^^^^^^^^\n",
      "  File \"/usr/local/lib/python3.11/dist-packages/nest_asyncio.py\", line 92, in run_until_complete\n",
      "    self._run_once()\n",
      "  File \"/usr/local/lib/python3.11/dist-packages/nest_asyncio.py\", line 133, in _run_once\n",
      "    handle._run()\n",
      "  File \"/usr/lib/python3.11/asyncio/events.py\", line 84, in _run\n",
      "    self._context.run(self._callback, *self._args)\n",
      "  File \"/usr/lib/python3.11/asyncio/tasks.py\", line 360, in __wakeup\n",
      "    self.__step()\n",
      "  File \"/usr/lib/python3.11/asyncio/tasks.py\", line 277, in __step\n",
      "    result = coro.send(None)\n",
      "             ^^^^^^^^^^^^^^^\n",
      "  File \"/usr/local/lib/python3.11/dist-packages/anyio/_backends/_asyncio.py\", line 2304, in wrapper\n",
      "    return await func(*args)\n",
      "           ^^^^^^^^^^^^^^^^^\n",
      "  File \"/usr/local/lib/python3.11/dist-packages/fastmcp/server/server.py\", line 332, in run_async\n",
      "    await self.run_http_async(\n",
      "  File \"/usr/local/lib/python3.11/dist-packages/fastmcp/server/server.py\", line 1526, in run_http_async\n",
      "    await server.serve()\n",
      "  File \"/usr/local/lib/python3.11/dist-packages/uvicorn/server.py\", line 71, in serve\n",
      "    await self._serve(sockets)\n",
      "  File \"/usr/local/lib/python3.11/dist-packages/uvicorn/server.py\", line 86, in _serve\n",
      "    await self.startup(sockets=sockets)\n",
      "  File \"/usr/local/lib/python3.11/dist-packages/uvicorn/server.py\", line 174, in startup\n",
      "    sys.exit(1)\n",
      "SystemExit: 1\n"
     ]
    },
    {
     "name": "stdout",
     "output_type": "stream",
     "text": [
      "INFO:     127.0.0.1:47318 - \"GET /sse/ HTTP/1.1\" 200 OK\n",
      "INFO:     127.0.0.1:47334 - \"POST /messages/?session_id=7fd36c6ab1a74a02ba28c7b8defb5fb7 HTTP/1.1\" 202 Accepted\n",
      "INFO:     127.0.0.1:47334 - \"POST /messages/?session_id=7fd36c6ab1a74a02ba28c7b8defb5fb7 HTTP/1.1\" 202 Accepted\n",
      "INFO:     127.0.0.1:47334 - \"POST /messages/?session_id=7fd36c6ab1a74a02ba28c7b8defb5fb7 HTTP/1.1\" 202 Accepted\n",
      "TOOLS AVAILABLE:\n",
      "- meta | None\n",
      "- nextCursor | None\n",
      "- tools | [Tool(name='add_data', title=None, description='Insert (name, info) into people table.', inputSchema={'properties': {'name': {'title': 'Name', 'type': 'string'}, 'info': {'title': 'Info', 'type': 'string'}}, 'required': ['name', 'info'], 'type': 'object'}, outputSchema={'properties': {'result': {'title': 'Result', 'type': 'string'}}, 'required': ['result'], 'title': '_WrappedResult', 'type': 'object', 'x-fastmcp-wrap-result': True}, annotations=None, meta={'_fastmcp': {'tags': []}}), Tool(name='read_data', title=None, description='Return a text dump of the people table.', inputSchema={'properties': {}, 'type': 'object'}, outputSchema={'properties': {'result': {'title': 'Result', 'type': 'string'}}, 'required': ['result'], 'title': '_WrappedResult', 'type': 'object', 'x-fastmcp-wrap-result': True}, annotations=None, meta={'_fastmcp': {'tags': []}})]\n",
      "INFO:     127.0.0.1:47338 - \"GET /sse HTTP/1.1\" 307 Temporary Redirect\n",
      "INFO:     127.0.0.1:47338 - \"GET /sse/ HTTP/1.1\" 200 OK\n",
      "INFO:     127.0.0.1:47348 - \"POST /messages/?session_id=0d2ddc7d04754fd5ba7af5ddac39327a HTTP/1.1\" 202 Accepted\n",
      "INFO:     127.0.0.1:47348 - \"POST /messages/?session_id=0d2ddc7d04754fd5ba7af5ddac39327a HTTP/1.1\" 202 Accepted\n",
      "INFO:     127.0.0.1:47348 - \"POST /messages/?session_id=0d2ddc7d04754fd5ba7af5ddac39327a HTTP/1.1\" 202 Accepted\n",
      "INFO:     127.0.0.1:47348 - \"POST /messages/?session_id=0d2ddc7d04754fd5ba7af5ddac39327a HTTP/1.1\" 202 Accepted\n",
      "add_data result: meta=None content=[TextContent(type='text', text='ok', annotations=None, meta=None)] structuredContent={'result': 'ok'} isError=False\n",
      "INFO:     127.0.0.1:47354 - \"GET /sse HTTP/1.1\" 307 Temporary Redirect\n",
      "INFO:     127.0.0.1:47354 - \"GET /sse/ HTTP/1.1\" 200 OK\n",
      "INFO:     127.0.0.1:47364 - \"POST /messages/?session_id=346c9e04279c4a0e83ab94e47ad1c5be HTTP/1.1\" 202 Accepted\n",
      "INFO:     127.0.0.1:47364 - \"POST /messages/?session_id=346c9e04279c4a0e83ab94e47ad1c5be HTTP/1.1\" 202 Accepted\n",
      "INFO:     127.0.0.1:47364 - \"POST /messages/?session_id=346c9e04279c4a0e83ab94e47ad1c5be HTTP/1.1\" 202 Accepted\n",
      "INFO:     127.0.0.1:47364 - \"POST /messages/?session_id=346c9e04279c4a0e83ab94e47ad1c5be HTTP/1.1\" 202 Accepted\n",
      "read_data result:\n",
      " meta=None content=[TextContent(type='text', text='1 | Hari | ML engineer wannabe', annotations=None, meta=None)] structuredContent={'result': '1 | Hari | ML engineer wannabe'} isError=False\n"
     ]
    }
   ],
   "source": [
    "# test the MCP server by listing and calling tools\n",
    "import asyncio, nest_asyncio\n",
    "from llama_index.tools.mcp import BasicMCPClient\n",
    "\n",
    "nest_asyncio.apply()  # allow nested asyncio in Colab\n",
    "\n",
    "async def demo():\n",
    "    client = BasicMCPClient(\"http://127.0.0.1:9090/sse\")\n",
    "    tools = await client.list_tools()\n",
    "    print(\"TOOLS AVAILABLE:\")\n",
    "    for name, desc in tools:\n",
    "          print(\"-\", name, \"|\", desc)\n",
    "\n",
    "\n",
    "    # add a row\n",
    "    res = await client.call_tool(\"add_data\", {\"name\": \"Hari\", \"info\": \"ML engineer wannabe\"})\n",
    "    print(\"add_data result:\", res)\n",
    "\n",
    "    # read rows\n",
    "    res2 = await client.call_tool(\"read_data\", {})\n",
    "    print(\"read_data result:\\n\", res2)\n",
    "\n",
    "asyncio.run(demo())\n"
   ]
  },
  {
   "cell_type": "code",
   "execution_count": 26,
   "metadata": {
    "colab": {
     "base_uri": "https://localhost:8080/"
    },
    "executionInfo": {
     "elapsed": 684,
     "status": "ok",
     "timestamp": 1754889765371,
     "user": {
      "displayName": "HARIVENKAT R",
      "userId": "13729029708391544167"
     },
     "user_tz": -330
    },
    "id": "PRjrPRGcYy17",
    "outputId": "82b927c1-973d-4f96-bd56-5464d9624de8"
   },
   "outputs": [
    {
     "data": {
      "text/plain": [
       "CompletionResponse(text='Liverpool Football Club (LFC) is a professional football club based in Liverpool, England, that has won numerous domestic and international titles, including six European Cups, 19 League titles, and seven FA Cups, with a rich history and a passionate fan base known for their iconic anthem \"You\\'ll Never Walk Alone\".', additional_kwargs={'prompt_tokens': 19, 'completion_tokens': 64, 'total_tokens': 83}, raw=ChatCompletion(id='chatcmpl-4e6ab2ad-6494-4124-a2bf-43df7a1a6812', choices=[Choice(finish_reason='stop', index=0, logprobs=None, message=ChatCompletionMessage(content='Liverpool Football Club (LFC) is a professional football club based in Liverpool, England, that has won numerous domestic and international titles, including six European Cups, 19 League titles, and seven FA Cups, with a rich history and a passionate fan base known for their iconic anthem \"You\\'ll Never Walk Alone\".', refusal=None, role='assistant', annotations=None, audio=None, function_call=None, tool_calls=None))], created=1754889764, model='llama3-70b-8192', object='chat.completion', service_tier='on_demand', system_fingerprint='fp_bf16903a67', usage=CompletionUsage(completion_tokens=64, prompt_tokens=19, total_tokens=83, completion_tokens_details=None, prompt_tokens_details=None, queue_time=0.273169444, prompt_time=0.000251804, completion_time=0.241751007, total_time=0.242002811), usage_breakdown=None, x_groq={'id': 'req_01k2bs9eptevtsvx90nt6br261'}), logprobs=None, delta=None)"
      ]
     },
     "execution_count": 26,
     "metadata": {},
     "output_type": "execute_result"
    }
   ],
   "source": [
    "import os\n",
    "from llama_index.llms.groq import Groq\n",
    "\n",
    "llm = Groq(model = \"llama3-70b-8192\", api_key = os.environ.get(\"GROQ_API_KEY\"))\n",
    "\n",
    "response = llm.complete(\"Tell me about LFC in one line.\")\n",
    "response"
   ]
  },
  {
   "cell_type": "code",
   "execution_count": 31,
   "metadata": {
    "colab": {
     "base_uri": "https://localhost:8080/"
    },
    "executionInfo": {
     "elapsed": 81,
     "status": "ok",
     "timestamp": 1754890383355,
     "user": {
      "displayName": "HARIVENKAT R",
      "userId": "13729029708391544167"
     },
     "user_tz": -330
    },
    "id": "noQ8yzOtlKx3",
    "outputId": "b0a32094-4356-416c-eea4-c2fda2bdbc69"
   },
   "outputs": [
    {
     "name": "stdout",
     "output_type": "stream",
     "text": [
      "INFO:     127.0.0.1:48462 - \"GET /sse HTTP/1.1\" 307 Temporary Redirect\n",
      "INFO:     127.0.0.1:48462 - \"GET /sse/ HTTP/1.1\" 200 OK\n",
      "INFO:     127.0.0.1:48474 - \"POST /messages/?session_id=832b259c0e7e4090b658916370f8626f HTTP/1.1\" 202 Accepted\n",
      "INFO:     127.0.0.1:48474 - \"POST /messages/?session_id=832b259c0e7e4090b658916370f8626f HTTP/1.1\" 202 Accepted\n",
      "INFO:     127.0.0.1:48474 - \"POST /messages/?session_id=832b259c0e7e4090b658916370f8626f HTTP/1.1\" 202 Accepted\n",
      "Converted tools for agent\n",
      "- add_data : Insert (name, info) into people table.\n",
      "- read_data : Return a text dump of the people table.\n"
     ]
    }
   ],
   "source": [
    "import asyncio, nest_asyncio\n",
    "from llama_index.tools.mcp import aget_tools_from_mcp_url\n",
    "\n",
    "nest_asyncio.apply()\n",
    "\n",
    "async def fetch_tools():\n",
    "  tools = await aget_tools_from_mcp_url(\"http://127.0.0.1:9090/sse\")\n",
    "  return tools\n",
    "\n",
    "tools = asyncio.run(fetch_tools())\n",
    "print(\"Converted tools for agent\")\n",
    "for t in tools:\n",
    "    print(\"-\", t.metadata.name, \":\", t.metadata.description)\n"
   ]
  },
  {
   "cell_type": "code",
   "execution_count": 33,
   "metadata": {
    "colab": {
     "base_uri": "https://localhost:8080/"
    },
    "executionInfo": {
     "elapsed": 2146,
     "status": "ok",
     "timestamp": 1754891331097,
     "user": {
      "displayName": "HARIVENKAT R",
      "userId": "13729029708391544167"
     },
     "user_tz": -330
    },
    "id": "dN_KmI-TnYPQ",
    "outputId": "1891a64f-7926-45a6-e56b-4b1b75b69481"
   },
   "outputs": [
    {
     "name": "stderr",
     "output_type": "stream",
     "text": [
      "/usr/lib/python3.11/inspect.py:573: PydanticDeprecatedSince20: The `__fields__` attribute is deprecated, use `model_fields` instead. Deprecated in Pydantic V2.0 to be removed in V3.0. See Pydantic V2 Migration Guide at https://errors.pydantic.dev/2.11/migration/\n",
      "  value = getter(object, key)\n",
      "/usr/lib/python3.11/inspect.py:573: PydanticDeprecatedSince20: The `__fields_set__` attribute is deprecated, use `model_fields_set` instead. Deprecated in Pydantic V2.0 to be removed in V3.0. See Pydantic V2 Migration Guide at https://errors.pydantic.dev/2.11/migration/\n",
      "  value = getter(object, key)\n",
      "/usr/lib/python3.11/inspect.py:573: PydanticDeprecatedSince211: Accessing the 'model_computed_fields' attribute on the instance is deprecated. Instead, you should access this attribute from the model class. Deprecated in Pydantic V2.11 to be removed in V3.0.\n",
      "  value = getter(object, key)\n",
      "/usr/lib/python3.11/inspect.py:573: PydanticDeprecatedSince211: Accessing the 'model_fields' attribute on the instance is deprecated. Instead, you should access this attribute from the model class. Deprecated in Pydantic V2.11 to be removed in V3.0.\n",
      "  value = getter(object, key)\n",
      "/usr/local/lib/python3.11/dist-packages/workflows/workflow.py:117: DeprecationWarning: ServiceManager is deprecated and will be removed in a future version.\n",
      "  self._service_manager = service_manager or ServiceManager()\n"
     ]
    },
    {
     "name": "stdout",
     "output_type": "stream",
     "text": [
      "INFO:     127.0.0.1:59516 - \"GET /sse HTTP/1.1\" 307 Temporary Redirect\n",
      "INFO:     127.0.0.1:59516 - \"GET /sse/ HTTP/1.1\" 200 OK\n",
      "INFO:     127.0.0.1:59524 - \"POST /messages/?session_id=42be08a1118c48639cb2c8c8eaf672e0 HTTP/1.1\" 202 Accepted\n",
      "INFO:     127.0.0.1:59524 - \"POST /messages/?session_id=42be08a1118c48639cb2c8c8eaf672e0 HTTP/1.1\" 202 Accepted\n",
      "INFO:     127.0.0.1:59524 - \"POST /messages/?session_id=42be08a1118c48639cb2c8c8eaf672e0 HTTP/1.1\" 202 Accepted\n",
      "INFO:     127.0.0.1:59524 - \"POST /messages/?session_id=42be08a1118c48639cb2c8c8eaf672e0 HTTP/1.1\" 202 Accepted\n",
      "INFO:     127.0.0.1:59538 - \"GET /sse HTTP/1.1\" 307 Temporary Redirect\n",
      "INFO:     127.0.0.1:59538 - \"GET /sse/ HTTP/1.1\" 200 OK\n",
      "INFO:     127.0.0.1:59544 - \"POST /messages/?session_id=d5a1dec2fa544d66a425647479f6ce7a HTTP/1.1\" 202 Accepted\n",
      "INFO:     127.0.0.1:59544 - \"POST /messages/?session_id=d5a1dec2fa544d66a425647479f6ce7a HTTP/1.1\" 202 Accepted\n",
      "INFO:     127.0.0.1:59544 - \"POST /messages/?session_id=d5a1dec2fa544d66a425647479f6ce7a HTTP/1.1\" 202 Accepted\n",
      "INFO:     127.0.0.1:59544 - \"POST /messages/?session_id=d5a1dec2fa544d66a425647479f6ce7a HTTP/1.1\" 202 Accepted\n",
      "Agent response:\n",
      " Here is the list of people: Hari - ML engineer wannabe, alice - loves climbing, Alice - loves climbing\n"
     ]
    }
   ],
   "source": [
    "from llama_index.core.agent.workflow import ReActAgent\n",
    "from llama_index.core.tools import FunctionTool\n",
    "agent = ReActAgent(\n",
    "\n",
    "      name = \"sqlite_agent\",\n",
    "      description=\"Agent that can add and read people in SQLite via MCP tools.\",\n",
    "      system_prompt=\"You are a helpful assistant. Use available tools to read/add people in the database.\",\n",
    "      llm = llm,\n",
    "      tools = tools\n",
    "\n",
    ")\n",
    "\n",
    "resp =await agent.run(\"add a person named alice who loves climbing. then show me all people.\")\n",
    "print(\"Agent response:\\n\", resp)"
   ]
  },
  {
   "cell_type": "code",
   "execution_count": null,
   "metadata": {
    "id": "YGqLDTdtrJ0h"
   },
   "outputs": [],
   "source": []
  }
 ],
 "metadata": {
  "accelerator": "GPU",
  "colab": {
   "authorship_tag": "ABX9TyPGtBgJY4gFKbbTTDQOgT3l",
   "gpuType": "T4",
   "provenance": []
  },
  "kernelspec": {
   "display_name": "langchain_env",
   "language": "python",
   "name": "python3"
  },
  "language_info": {
   "codemirror_mode": {
    "name": "ipython",
    "version": 3
   },
   "file_extension": ".py",
   "mimetype": "text/x-python",
   "name": "python",
   "nbconvert_exporter": "python",
   "pygments_lexer": "ipython3",
   "version": "3.9.13"
  }
 },
 "nbformat": 4,
 "nbformat_minor": 0
}
